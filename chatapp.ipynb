{
  "nbformat": 4,
  "nbformat_minor": 0,
  "metadata": {
    "colab": {
      "name": "chatapp.ipynb",
      "provenance": []
    },
    "kernelspec": {
      "name": "python3",
      "display_name": "Python 3"
    }
  },
  "cells": [
    {
      "cell_type": "code",
      "metadata": {
        "id": "OTL0BZBoHfqI",
        "colab_type": "code",
        "colab": {}
      },
      "source": [
        "import nltk\n",
        "from nltk.stem import WordNetLemmatizer\n",
        "lemmatizer = WordNetLemmatizer()\n",
        "import pickle\n",
        "import numpy as np\n",
        "\n",
        "from keras.models import load_model\n",
        "model = load_model('chatbot_model.h5')\n",
        "import json\n",
        "import random\n",
        "intents = json.loads(open('intents.json').read())\n",
        "words = pickle.load(open('words.pkl', 'rb'))\n",
        "classes = pickle.load(open('classes.pkl', 'rb'))"
      ],
      "execution_count": null,
      "outputs": []
    },
    {
      "cell_type": "code",
      "metadata": {
        "id": "NE1jnpBwIBOT",
        "colab_type": "code",
        "colab": {}
      },
      "source": [
        "def clean_up_sentence(sentence):\n",
        "    #Tokenizing the pattern\n",
        "    sentence_words = nltk.word_tokenize(sentence)\n",
        "    #Steming each word\n",
        "    sentence_words = [lemmatizer.lemmatize(word.lower()) for word in sentence_words]\n",
        "    return sentence_words\n",
        "\n",
        "# return bag of words array: 0 or 1 for each word in the bag that exists in the sentence\n",
        "def bow(sentence, words, show_details = True):\n",
        "\n",
        "    #Tokenizing the pattern\n",
        "    sentence_words = clean_up_sentence(sentence)\n",
        "    #Bag of words - matrix of N words, vocabulary matrix\n",
        "    bag = [0]*len(words)\n",
        "\n",
        "    for s in sentence_words:\n",
        "        for i, w in enumerate(words):\n",
        "            if w == s:\n",
        "                bag[i] = 1\n",
        "                if show_details:\n",
        "                    print(\"found in bags: %s\" %w)\n",
        "    return (np.array(bag))\n",
        "\n",
        "def predict_class(sentence, model):\n",
        "\n",
        "    #Filtering out predictions below threshold\n",
        "    p = bow(sentence, words, show_details = False)\n",
        "    res = model.predict(np.array([p]))[0]\n",
        "    ERROR_THRESHOLD = 0.25\n",
        "    results = [[i, r] for i, r in enumerate(res) if r > ERROR_THRESHOLD]\n",
        "\n",
        "    #Sorting by strength of probability\n",
        "    results.sort(key = lambda x: x[1], reverse = True)\n",
        "    return_list = []\n",
        "\n",
        "    for r in results:\n",
        "        return_list.append({\"intent\": classes[r[0]], \"probability\": str(r[1])})\n",
        "    return return_list"
      ],
      "execution_count": null,
      "outputs": []
    },
    {
      "cell_type": "code",
      "metadata": {
        "id": "w8FHYBxmKxRm",
        "colab_type": "code",
        "colab": {}
      },
      "source": [
        "def getResponse(ints, intents_json):\n",
        "    \n",
        "    tag = ints[0]['intent']\n",
        "    list_of_intents = intents_json['intents']\n",
        "    for i in list_of_intents:\n",
        "        if(i['tag'] == tag):\n",
        "            result = random.choice(i['responses'])\n",
        "            break\n",
        "    return result\n",
        "\n",
        "def chatbot_response(text):\n",
        "\n",
        "    ints = predict_class(text, model)\n",
        "    res = getResponse(ints, intents)\n",
        "    return res"
      ],
      "execution_count": null,
      "outputs": []
    },
    {
      "cell_type": "code",
      "metadata": {
        "id": "Mf5SlHPtLelz",
        "colab_type": "code",
        "colab": {}
      },
      "source": [
        "import tkinter\n",
        "from tkinter import *\n",
        "\n",
        "def send():\n",
        "    msg = EntryBox(\"1.0\", 'end-1c').strip()\n",
        "    EntryBox.delete(\"0.0\", END)\n",
        "\n",
        "    if msg != '':\n",
        "        ChatLog.config(state = Normal)\n",
        "        ChatLog.insert(END, \"You: \" + msg + '\\n\\n')\n",
        "        ChatLog.config(foreground = \"#442265\", font = (\"Verdana\", 12))\n",
        "\n",
        "        res = chatbot_response(msg)\n",
        "        ChatLog.insert(END, \"Bot: \" + res + '\\n\\n')\n",
        "\n",
        "        ChatLog.config(state = DISABLED)\n",
        "        ChatLog.yview(END)\n",
        "\n",
        "base = Tk()\n",
        "base.title(\"Hello\")\n",
        "base.geometry(\"400x500\")\n",
        "base.resizable(width = False, height = False)\n",
        "\n",
        "#Creating chat window\n",
        "ChatLog = Text(base, bd = 0, bg = 'white', height = \"8\", width = \"50\", font = \"Arial\")\n",
        "\n",
        "ChatLog.config(state = DISABLED)\n",
        "\n",
        "#Binding scrollbar to Chat window\n",
        "scrollbar = Scrollbar(base, command = ChatLog.yview, cursor = \"heart\")\n",
        "ChatLog['yscrollcommand'] = scrollbar.set\n",
        "\n",
        "#Creating button to send message\n",
        "SendButton(base, font = (\"Vernada\", 12, 'bold'), text = \"Send\", width = \"12\", height = 5, bd = 0, bg = \"#32de97\", activebackground = \"#3c9d9b\", fg = \"#ffffff\", command = send)\n",
        "\n",
        "#Creating box to enter message\n",
        "EntryBox = Text(base, bd = 0, bg = \"white\", width = \"29\", height = \"5\", font = \"Arial\")\n",
        "#EntryBox.bind(\"<Return\", send)\n",
        "\n",
        "#Placing all components on the screen\n",
        "scrollbar.place(x = 379, y = 6, height = 386)\n",
        "ChatLog.place(x = 6, y = 6, height = 386, width = 370)\n",
        "EntryBox.place(x = 128, y = 401, height = 90, width = 265)\n",
        "SendButton.place(x = 6, y = 401, height = 90)\n",
        "\n",
        "base.mainloop()"
      ],
      "execution_count": null,
      "outputs": []
    },
    {
      "cell_type": "code",
      "metadata": {
        "id": "hz4FCO2WO2Bp",
        "colab_type": "code",
        "colab": {}
      },
      "source": [
        ""
      ],
      "execution_count": null,
      "outputs": []
    }
  ]
}